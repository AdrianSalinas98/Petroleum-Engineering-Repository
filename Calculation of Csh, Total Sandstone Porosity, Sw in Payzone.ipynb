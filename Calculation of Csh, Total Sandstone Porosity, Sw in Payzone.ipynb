{
 "cells": [
  {
   "cell_type": "markdown",
   "metadata": {},
   "source": [
    "\n",
    "### PPP Calculation of Csh, Total Sandstone Porosity, Sw in Payzone Using Laminated Aquifer Slope Method\n",
    "\n",
    "\n",
    "Use this workflow having already computed CshAquifer(array),Rw,a,m,n from the picket plot in excel from the aquifer. Prepare arrays for:\n",
    "- Gamma Ray values every 2ft of pay\n",
    "- Nuetron and Density values every 2ft of pay\n",
    "- Rt values every 2 ft of pay (no need to calculate Rss)\n",
    "\n",
    "use https://apps.automeris.io/wpd/\n",
    "link to github: https://github.com/AdrianSalinas98/Petroleum-Engineering-Repository\n",
    "\n"
   ]
  },
  {
   "cell_type": "code",
   "execution_count": 1,
   "metadata": {},
   "outputs": [
    {
     "data": {
      "text/html": [
       "<div>\n",
       "<style scoped>\n",
       "    .dataframe tbody tr th:only-of-type {\n",
       "        vertical-align: middle;\n",
       "    }\n",
       "\n",
       "    .dataframe tbody tr th {\n",
       "        vertical-align: top;\n",
       "    }\n",
       "\n",
       "    .dataframe thead th {\n",
       "        text-align: right;\n",
       "    }\n",
       "</style>\n",
       "<table border=\"1\" class=\"dataframe\">\n",
       "  <thead>\n",
       "    <tr style=\"text-align: right;\">\n",
       "      <th></th>\n",
       "      <th>Depth</th>\n",
       "      <th>GammaPay</th>\n",
       "      <th>Rw</th>\n",
       "      <th>Rt</th>\n",
       "      <th>Npay</th>\n",
       "      <th>Dpay</th>\n",
       "      <th>Sidewall Porosity</th>\n",
       "      <th>Sidewall Saturation</th>\n",
       "      <th>PorosityPayNew</th>\n",
       "      <th>WaterSaturationPayNew</th>\n",
       "    </tr>\n",
       "  </thead>\n",
       "  <tbody>\n",
       "    <tr>\n",
       "      <th>0</th>\n",
       "      <td>8101.233248</td>\n",
       "      <td>112.000000</td>\n",
       "      <td>0.050119</td>\n",
       "      <td>3.0</td>\n",
       "      <td>0.180000</td>\n",
       "      <td>0.180000</td>\n",
       "      <td>0.261</td>\n",
       "      <td>0.604</td>\n",
       "      <td>0.287038</td>\n",
       "      <td>0.528203</td>\n",
       "    </tr>\n",
       "    <tr>\n",
       "      <th>1</th>\n",
       "      <td>8117.549045</td>\n",
       "      <td>99.032293</td>\n",
       "      <td>0.050119</td>\n",
       "      <td>1.4</td>\n",
       "      <td>0.302304</td>\n",
       "      <td>0.190511</td>\n",
       "      <td>0.250</td>\n",
       "      <td>0.838</td>\n",
       "      <td>0.220022</td>\n",
       "      <td>0.886291</td>\n",
       "    </tr>\n",
       "    <tr>\n",
       "      <th>2</th>\n",
       "      <td>8119.678643</td>\n",
       "      <td>101.871257</td>\n",
       "      <td>0.050119</td>\n",
       "      <td>1.6</td>\n",
       "      <td>0.300000</td>\n",
       "      <td>0.201536</td>\n",
       "      <td>0.228</td>\n",
       "      <td>0.787</td>\n",
       "      <td>0.230157</td>\n",
       "      <td>0.810462</td>\n",
       "    </tr>\n",
       "    <tr>\n",
       "      <th>3</th>\n",
       "      <td>8121.520958</td>\n",
       "      <td>100.149701</td>\n",
       "      <td>0.050119</td>\n",
       "      <td>1.7</td>\n",
       "      <td>0.287090</td>\n",
       "      <td>0.197655</td>\n",
       "      <td>0.236</td>\n",
       "      <td>0.746</td>\n",
       "      <td>0.211312</td>\n",
       "      <td>0.846996</td>\n",
       "    </tr>\n",
       "  </tbody>\n",
       "</table>\n",
       "</div>"
      ],
      "text/plain": [
       "         Depth    GammaPay        Rw   Rt      Npay      Dpay  \\\n",
       "0  8101.233248  112.000000  0.050119  3.0  0.180000  0.180000   \n",
       "1  8117.549045   99.032293  0.050119  1.4  0.302304  0.190511   \n",
       "2  8119.678643  101.871257  0.050119  1.6  0.300000  0.201536   \n",
       "3  8121.520958  100.149701  0.050119  1.7  0.287090  0.197655   \n",
       "\n",
       "   Sidewall Porosity  Sidewall Saturation  PorosityPayNew  \\\n",
       "0              0.261                0.604        0.287038   \n",
       "1              0.250                0.838        0.220022   \n",
       "2              0.228                0.787        0.230157   \n",
       "3              0.236                0.746        0.211312   \n",
       "\n",
       "   WaterSaturationPayNew  \n",
       "0               0.528203  \n",
       "1               0.886291  \n",
       "2               0.810462  \n",
       "3               0.846996  "
      ]
     },
     "execution_count": 1,
     "metadata": {},
     "output_type": "execute_result"
    }
   ],
   "source": [
    "import numpy as np\n",
    "import pandas as pd\n",
    "import matplotlib.pyplot as plt\n",
    "\n",
    "\n",
    "#- Gamma Shale: 1 value (local max) **NEAR THE PAY ZONE**\n",
    "#- Gamma Sand: 1 value (local min) **APPROXIMATING AQUIFER**\n",
    "#- Gamma Aquifer: 1 value (local min)\n",
    "#- Gamma Pay: Gamma ray of the Pay Zone **[Array]**\n",
    "#- Csh Aquifer: shale concentration of Aquifer 1 value **MUST BE AT SAME DEPTH AS Gamma Aquifer**\n",
    "\n",
    "#returns [Array]: CshPay: shale concentration along the payzone\n",
    "\n",
    "def Csh(GammaShale,GammaAquifer,GammaPay,CshAquifer):\n",
    "    slope = (1-CshAquifer)/(GammaShale-GammaAquifer) #1 value for each well\n",
    "    CshPay = slope*(GammaPay-GammaShale)+1 #distribution for each 2ft of pay\n",
    "    return CshPay\n",
    "\n",
    "def CshNew(GammaShale,GammaSand,GammaPay):\n",
    "    CshPay = (GammaPay - GammaSand)/(GammaShale - GammaSand) #distribution for each 2ft of pay\n",
    "    return CshPay\n",
    "\n",
    "#-----------------------------------------------------------------------------------------\n",
    "#NPay: nuetron porosity every 2 ft of pay [Array]\n",
    "#DPay: density every 2 ft of pay [Array]\n",
    "#NShale: nuetron porosity of pure shale (1 value)\n",
    "#DShale: density porosity of pure shale (1 value)\n",
    "#CshPay: input the CshPay [Array] from above\n",
    "\n",
    "#returns [Array]: PhiTotal: corrected, total porosity in the pay zone\n",
    "\n",
    "def TotalPorosity(NPay,DPay,NShale,DShale,CshPay):\n",
    "    PhiDcorrected = (DPay-(CshPay*DShale))/(1-CshPay)\n",
    "    PhiNcorrected = (NPay-(CshPay*NShale))/(1-CshPay)\n",
    "    PhiTotal = ( ((PhiNcorrected**2)+(PhiDcorrected**2))/2 )**.5\n",
    "    return PhiTotal\n",
    "#-----------------------------------------------------------------------------------------\n",
    "\n",
    "#Rw: single value from picket plot\n",
    "#Rt: DEEP resistivity every 2 ft of pay [Array]\n",
    "#phiTotal: input array from above\n",
    "#a,m,n single values from picket plot:\n",
    "\n",
    "#returns [2-D Array]: of Sw and Shc\n",
    "\n",
    "def Saturations(Rw,Rt,phiTotal,a,m,n):\n",
    "    Sw = ((Rw/Rt)*(a/(phiTotal**m)))**(1/n)\n",
    "    Shc = 1-Sw\n",
    "    return np.array([Sw,Shc])\n",
    "#-----------------------------------------------------------------------------------------\n",
    "\n",
    "#For loops using arrays: GammaPay,Rw,Npay,Dpay,Rt values. Return distribution.\n",
    "\n",
    "data = pd.read_csv('template.csv')\n",
    "GammaPay = np.array(data['GammaPay'])\n",
    "Rw = np.array(data['Rw'])\n",
    "Rt = np.array(data['Rt'])\n",
    "NPay = np.array(data['Npay'])\n",
    "DPay = np.array(data['Dpay'])\n",
    "\n",
    "\n",
    "GammaShale = 135\n",
    "GammaAquifer = 60\n",
    "GammaSand = 45\n",
    "CshAquifer = 0.1667\n",
    "NShale = .36 #.402\n",
    "DShale = .168 #.23\n",
    "a = 1\n",
    "m = 2 \n",
    "n = 2.5\n",
    "\n",
    "\n",
    "CshPay = np.array([])\n",
    "CshPayNew = np.array([])\n",
    "for i in range(len(GammaPay)):\n",
    "    calc = Csh(GammaShale,GammaAquifer,GammaPay[i],CshAquifer)\n",
    "    CshPay = np.append(CshPay,calc)\n",
    "    \n",
    "    calcNew = CshNew(GammaShale,GammaSand,GammaPay[i])\n",
    "    CshPayNew = np.append(CshPayNew,calcNew)\n",
    "\n",
    "PorosityPay = np.array([])\n",
    "PorosityPayNew = np.array([])\n",
    "for i in range(len(CshPay)):\n",
    "    calc1 = TotalPorosity(NPay[i],DPay[i],NShale,DShale,CshPay[i])\n",
    "    PorosityPay = np.append(PorosityPay,calc1)\n",
    "    \n",
    "    calc1New = TotalPorosity(NPay[i],DPay[i],NShale,DShale,CshPayNew[i])\n",
    "    PorosityPayNew = np.append(PorosityPayNew,calc1New)\n",
    "    \n",
    "WaterSaturationPay = np.array([])\n",
    "WaterSaturationPayNew = np.array([])\n",
    "OilSaturationPay = np.array([])\n",
    "for i in range(len(PorosityPay)):\n",
    "    calc2 = Saturations(Rw[i],Rt[i],PorosityPay[i],a,m,n)\n",
    "    WaterSaturationPay = np.append(WaterSaturationPay,calc2[0])\n",
    "    OilSaturationPay = np.append(OilSaturationPay,calc2[1])\n",
    "    \n",
    "    calc2New =  Saturations(Rw[i],Rt[i],PorosityPayNew[i],a,m,n)\n",
    "    WaterSaturationPayNew = np.append(WaterSaturationPayNew,calc2New[0])\n",
    "    \n",
    "# print(PorosityPay)\n",
    "# print(WaterSaturationPay)\n",
    "\n",
    "#data['PorosityPay'] = PorosityPay\n",
    "#data['WaterSaturation'] = WaterSaturationPay\n",
    "\n",
    "\n",
    "data['PorosityPayNew'] = PorosityPayNew\n",
    "data['WaterSaturationPayNew'] = WaterSaturationPayNew\n",
    "# print(PorosityPayNew)\n",
    "# print(WaterSaturationPayNew)\n",
    "\n",
    "data.to_csv('SandExport.csv')\n",
    "\n",
    "data\n",
    "\n",
    "\n"
   ]
  },
  {
   "cell_type": "markdown",
   "metadata": {},
   "source": [
    "## Peicewise funtion for Depth Correlation: Well I-4 (MD to TVD relationship)"
   ]
  },
  {
   "cell_type": "code",
   "execution_count": 2,
   "metadata": {},
   "outputs": [
    {
     "name": "stdout",
     "output_type": "stream",
     "text": [
      "[7507. 7610. 7806. 7842. 8124. 8252. 8298. 8352.   nan   nan   nan   nan\n",
      "   nan   nan   nan   nan   nan   nan   nan   nan   nan   nan   nan   nan\n",
      "   nan   nan   nan   nan   nan   nan]\n",
      "[7335.5758 7422.034  7586.5564 7616.7748 7853.4856 7960.9288 7999.5412\n",
      " 8044.8688    0.        0.        0.        0.        0.        0.\n",
      "    0.        0.        0.        0.        0.        0.        0.\n",
      "    0.        0.        0.        0.        0.        0.        0.\n",
      "    0.        0.    ]\n"
     ]
    },
    {
     "data": {
      "image/png": "[encoded data removed]",
      "text/plain": [
       "<Figure size 432x288 with 1 Axes>"
      ]
     },
     "metadata": {
      "needs_background": "light"
     },
     "output_type": "display_data"
    }
   ],
   "source": [
    "md = pd.read_csv('md.csv')\n",
    "\n",
    "md.head()\n",
    "MD = np.array(md['MD'])\n",
    "TVD = np.array(md['TVD'])\n",
    "depths = np.array(md['depths'])\n",
    "\n",
    "newdepths = np.zeros(len(depths))\n",
    "for i in range(0,len(depths)):\n",
    "    if depths[i] < 6500.1:\n",
    "        newdepths[i] = (0.968*depths[i] + 180.991)\n",
    "    elif depths[i] > 6500.1 and depths[i] < 7275.1:\n",
    "        newdepths[i] = (0.865*depths[i] + 845.35)\n",
    "    elif depths[i] > 7275.1:\n",
    "        newdepths[i] = (0.8394*depths[i] + 1034.2)\n",
    "        \n",
    "print(depths)    \n",
    "print(newdepths)\n",
    "\n",
    "\n",
    "plt.plot(depths, 'r-',label = 'MD')\n",
    "plt.plot(newdepths, 'b-', label = 'TVD')\n",
    "\n",
    "md['depthTVD'] = newdepths\n",
    "md.to_csv('DepthExport.csv')\n",
    "\n"
   ]
  },
  {
   "cell_type": "markdown",
   "metadata": {},
   "source": [
    "### Calculating Average Porosity and Water Saturation for each Sand\n",
    "\n",
    "- The average distributions across each sand will be weighted based on how much feet of pay each zone has.\n",
    "- Wells that have thicker payzones will contribute more weight to the average values of Porosity and water saturation.\n",
    "\n",
    "importing data for distribution visuals, weighted averages already calculated."
   ]
  },
  {
   "cell_type": "code",
   "execution_count": 3,
   "metadata": {},
   "outputs": [
    {
     "name": "stderr",
     "output_type": "stream",
     "text": [
      "/usr/local/miniconda3/envs/jupyterhub/lib/python3.8/site-packages/numpy/lib/histograms.py:839: RuntimeWarning: invalid value encountered in greater_equal\n",
      "  keep = (tmp_a >= first_edge)\n",
      "/usr/local/miniconda3/envs/jupyterhub/lib/python3.8/site-packages/numpy/lib/histograms.py:840: RuntimeWarning: invalid value encountered in less_equal\n",
      "  keep &= (tmp_a <= last_edge)\n"
     ]
    },
    {
     "data": {
      "image/png": "[encoded data removed]",
      "text/plain": [
       "<Figure size 432x288 with 6 Axes>"
      ]
     },
     "metadata": {
      "needs_background": "light"
     },
     "output_type": "display_data"
    }
   ],
   "source": [
    "sands = pd.read_csv('sands.csv')\n",
    "\n",
    "F3Por = sands['F3Por (SSPU)']\n",
    "F3w =   sands['F3w (-)']\n",
    "F4Por = sands['F4Por (SSPU)']\n",
    "F4w = sands['F4w (-)']\n",
    "F5Por = sands['F5Por (SSPU)']\n",
    "F5w = sands['F5w (-)']\n",
    "\n",
    "\n",
    "bins1 = 20\n",
    "ax1 = plt.subplot(3,2,1)\n",
    "n, bins,patches = ax1.hist(F3Por,bins1,facecolor = 'r',density=True)\n",
    "ax1.set_xlim([.1,.4])\n",
    "ax1.set_xlabel('Porosity' )\n",
    "ax1.set_ylabel('Count')\n",
    "ax1.set_title('F3 Sand Porosity')\n",
    "\n",
    "bins2 = 20\n",
    "ax2 = plt.subplot(3,2,2)\n",
    "n, bins,patches = ax2.hist(F3w,bins2,facecolor = 'b',density=True)\n",
    "ax2.set_xlim([.2,1])\n",
    "ax2.set_xlabel('Water Saturation')\n",
    "ax2.set_ylabel('Count')\n",
    "ax2.set_title('F3 Sand Water Saturation')\n",
    "\n",
    "bins3 = 15\n",
    "ax3 = plt.subplot(3,2,3)\n",
    "n, bins,patches = ax3.hist(F4Por,bins3,facecolor = 'r',density=True)\n",
    "ax3.set_xlim([.1,.4])\n",
    "ax3.set_xlabel('Porosity' )\n",
    "ax3.set_ylabel('Count')\n",
    "ax3.set_title('F4 Sand Porosity')\n",
    "\n",
    "bins4 = 15\n",
    "ax4 = plt.subplot(3,2,4)\n",
    "n, bins,patches = ax4.hist(F4w,bins4,facecolor = 'b',density=True)\n",
    "ax4.set_xlim([.2,1])\n",
    "ax4.set_xlabel('Water Saturation')\n",
    "ax4.set_ylabel('Count')\n",
    "ax4.set_title('F4 Sand Water Saturation')\n",
    "\n",
    "bins5 = 30\n",
    "ax5 = plt.subplot(3,2,5)\n",
    "n, bins,patches = ax5.hist(F5Por,bins5,facecolor = 'r',density=True)\n",
    "ax5.set_xlim([.1,.4])\n",
    "ax5.set_xlabel('Porosity' )\n",
    "ax5.set_ylabel('Count')\n",
    "ax5.set_title('F5 Sand Porosity')\n",
    "\n",
    "bins6 = 30\n",
    "ax6 = plt.subplot(3,2,6)\n",
    "n, bins,patches = ax6.hist(F5w,bins6,facecolor = 'b',density=True)\n",
    "ax6.set_xlim([.2,1])\n",
    "ax6.set_xlabel('Water Saturation')\n",
    "ax6.set_ylabel('Count')\n",
    "ax6.set_title('F5 Sand Water Saturation')\n",
    "\n",
    "# bins7 = 15\n",
    "# ax7 = plt.subplot(4,2,7)\n",
    "# n, bins,patches = ax7.hist(F5DPor,bins7,facecolor = 'r',density=True)\n",
    "# ax7.set_xlim([.1,.4])\n",
    "# ax7.set_xlabel('Porosity' )\n",
    "# ax7.set_ylabel('Count')\n",
    "# ax7.set_title('F5D Sand Porosity')\n",
    "\n",
    "# bins8 = 15\n",
    "# ax8 = plt.subplot(4,2,8)\n",
    "# n, bins,patches = ax8.hist(F5Dw,bins8,facecolor = 'b',density=True)\n",
    "# ax8.set_xlim([.2,1])\n",
    "# ax8.set_xlabel('Water Saturation')\n",
    "# ax8.set_ylabel('Count')\n",
    "# ax8.set_title('F5D Sand Water Saturation')\n",
    "\n",
    "\n",
    "\n",
    "plt.subplots_adjust(left=0.0, bottom=0.0, right=1.5, top=2.5, wspace=.5, hspace=.5)"
   ]
  },
  {
   "cell_type": "code",
   "execution_count": 4,
   "metadata": {},
   "outputs": [
    {
     "data": {
      "text/html": [
       "<div>\n",
       "<style scoped>\n",
       "    .dataframe tbody tr th:only-of-type {\n",
       "        vertical-align: middle;\n",
       "    }\n",
       "\n",
       "    .dataframe tbody tr th {\n",
       "        vertical-align: top;\n",
       "    }\n",
       "\n",
       "    .dataframe thead th {\n",
       "        text-align: right;\n",
       "    }\n",
       "</style>\n",
       "<table border=\"1\" class=\"dataframe\">\n",
       "  <thead>\n",
       "    <tr style=\"text-align: right;\">\n",
       "      <th></th>\n",
       "      <th>F3Por (SSPU)</th>\n",
       "      <th>F3w (-)</th>\n",
       "      <th>F4Por (SSPU)</th>\n",
       "      <th>F4w (-)</th>\n",
       "      <th>F5Por (SSPU)</th>\n",
       "      <th>F5w (-)</th>\n",
       "    </tr>\n",
       "  </thead>\n",
       "  <tbody>\n",
       "    <tr>\n",
       "      <th>Weighted Mean Porosity</th>\n",
       "      <td>0.31</td>\n",
       "      <td>0.53</td>\n",
       "      <td>0.26</td>\n",
       "      <td>0.71</td>\n",
       "      <td>0.29</td>\n",
       "      <td>0.59</td>\n",
       "    </tr>\n",
       "    <tr>\n",
       "      <th>mean</th>\n",
       "      <td>0.31</td>\n",
       "      <td>0.55</td>\n",
       "      <td>0.26</td>\n",
       "      <td>0.71</td>\n",
       "      <td>0.29</td>\n",
       "      <td>0.59</td>\n",
       "    </tr>\n",
       "    <tr>\n",
       "      <th>std</th>\n",
       "      <td>0.04</td>\n",
       "      <td>0.12</td>\n",
       "      <td>0.04</td>\n",
       "      <td>0.17</td>\n",
       "      <td>0.06</td>\n",
       "      <td>0.17</td>\n",
       "    </tr>\n",
       "    <tr>\n",
       "      <th>min</th>\n",
       "      <td>0.21</td>\n",
       "      <td>0.37</td>\n",
       "      <td>0.18</td>\n",
       "      <td>0.34</td>\n",
       "      <td>0.13</td>\n",
       "      <td>0.26</td>\n",
       "    </tr>\n",
       "    <tr>\n",
       "      <th>25%</th>\n",
       "      <td>0.29</td>\n",
       "      <td>0.44</td>\n",
       "      <td>0.23</td>\n",
       "      <td>0.61</td>\n",
       "      <td>0.25</td>\n",
       "      <td>0.46</td>\n",
       "    </tr>\n",
       "    <tr>\n",
       "      <th>50%</th>\n",
       "      <td>0.31</td>\n",
       "      <td>0.55</td>\n",
       "      <td>0.28</td>\n",
       "      <td>0.75</td>\n",
       "      <td>0.29</td>\n",
       "      <td>0.57</td>\n",
       "    </tr>\n",
       "    <tr>\n",
       "      <th>75%</th>\n",
       "      <td>0.33</td>\n",
       "      <td>0.62</td>\n",
       "      <td>0.29</td>\n",
       "      <td>0.82</td>\n",
       "      <td>0.33</td>\n",
       "      <td>0.72</td>\n",
       "    </tr>\n",
       "    <tr>\n",
       "      <th>max</th>\n",
       "      <td>0.39</td>\n",
       "      <td>0.81</td>\n",
       "      <td>0.33</td>\n",
       "      <td>0.91</td>\n",
       "      <td>0.39</td>\n",
       "      <td>0.91</td>\n",
       "    </tr>\n",
       "  </tbody>\n",
       "</table>\n",
       "</div>"
      ],
      "text/plain": [
       "                        F3Por (SSPU)  F3w (-)  F4Por (SSPU)  F4w (-)  \\\n",
       "Weighted Mean Porosity          0.31     0.53          0.26     0.71   \n",
       "mean                            0.31     0.55          0.26     0.71   \n",
       "std                             0.04     0.12          0.04     0.17   \n",
       "min                             0.21     0.37          0.18     0.34   \n",
       "25%                             0.29     0.44          0.23     0.61   \n",
       "50%                             0.31     0.55          0.28     0.75   \n",
       "75%                             0.33     0.62          0.29     0.82   \n",
       "max                             0.39     0.81          0.33     0.91   \n",
       "\n",
       "                        F5Por (SSPU)  F5w (-)  \n",
       "Weighted Mean Porosity          0.29     0.59  \n",
       "mean                            0.29     0.59  \n",
       "std                             0.06     0.17  \n",
       "min                             0.13     0.26  \n",
       "25%                             0.25     0.46  \n",
       "50%                             0.29     0.57  \n",
       "75%                             0.33     0.72  \n",
       "max                             0.39     0.91  "
      ]
     },
     "execution_count": 4,
     "metadata": {},
     "output_type": "execute_result"
    }
   ],
   "source": [
    "summary = sands.describe()\n",
    "\n",
    "df2 = pd.DataFrame([[0.31,0.53,0.26,0.71,0.29,0.59]], columns=['F3Por (SSPU)','F3w (-)','F4Por (SSPU)','F4w (-)','F5Por (SSPU)','F5w (-)'],\n",
    "                  index = ['Weighted Mean Porosity'])\n",
    "summaryR = pd.concat([df2, summary]).round(2)\n",
    "summaryR = summaryR.drop(['count'])\n",
    "summaryR\n",
    "\n",
    "\n",
    "\n",
    "# df3 = pd.DataFrame([[]],columns=['F3Por','F3w','F4Por','F4w','F5BPor','F5Bw','F5DPor','F5Dw'],\n",
    "#                   index = ['Net to Gross Ratio'])\n"
   ]
  },
  {
   "cell_type": "markdown",
   "metadata": {},
   "source": [
    "## Contour Map F3 Sand\n",
    "\n",
    "Lets start by reading in the digitized data from our plats"
   ]
  },
  {
   "cell_type": "code",
   "execution_count": 12,
   "metadata": {},
   "outputs": [],
   "source": [
    "from matplotlib.path import Path\n",
    "from matplotlib.patches import PathPatch\n",
    "from scipy.interpolate import griddata\n",
    "\n",
    "def Contour(filename):\n",
    "    \n",
    "    plat = pd.read_csv(filename)\n",
    "    points = np.array(plat.iloc[0:6,[2,3]].copy()) # x,y\n",
    "    values = np.array(plat.iloc[0:6,4].copy())     # z\n",
    "    boundary_points = np.array(plat.iloc[:,[0,1]].copy())\n",
    "\n",
    "    print(values[-1])\n",
    "    print(points[-1])\n",
    "    #min and max of x and y points chosen for the boundary, @ z resolution\n",
    "    Nx = 500\n",
    "    Ny = 500\n",
    "    xi = np.linspace(-3000, 5000,Nx)\n",
    "    yi = np.linspace(0, 5000,Ny)\n",
    "    X,Y = np.meshgrid(xi,yi)\n",
    "\n",
    "    Z = griddata(points,values,(X,Y),method = 'cubic') \n",
    "    boolean = ~np.isnan(Z) #does opposite of replacing nan with true(nan are false)\n",
    "    #choose values based on true index(real values)\n",
    "    #doing the same as spreadsheetbut with real values (make x_column beside y_column and corresponsding Z_column)\n",
    "    Z1 = Z[boolean]\n",
    "    Z1 = Z1.reshape(-1)\n",
    "    X1 = X[boolean]\n",
    "    X1 = X1.reshape(-1)\n",
    "    Y1 = Y[boolean]\n",
    "    Y1 = Y1.reshape(-1)\n",
    "\n",
    "    points2 = np.column_stack((X1,Y1)) \n",
    "    Z2 = griddata(points2,Z1,(X,Y),method = 'nearest') \n",
    "\n",
    "    #remove negative depth values\n",
    "    Z2 = np.where(Z2<0,0.0,Z2)\n",
    "\n",
    "    #set boundary as a path object\n",
    "    path = Path(boundary_points)\n",
    "\n",
    "    #flatten our figure space(X,Y meshgrid), then arange in (N by 2 array for 'contains_points' function)\n",
    "    XX,YY = X.flatten(), Y.flatten()\n",
    "    XY = np.vstack((XX,YY)).T\n",
    "\n",
    "    path_boolean = path.contains_points(XY)\n",
    "    path_boolean = path_boolean.reshape(Ny,Nx)\n",
    "\n",
    "    #make points 'outside' path nan \n",
    "    outside = path_boolean == False\n",
    "    Z2[outside] = np.nan\n",
    "\n",
    "    fig,ax = plt.subplots(constrained_layout = True)\n",
    "    C = ax.contourf(X,Y,Z2)\n",
    "    cbar = fig.colorbar(C)\n",
    "\n",
    "    #visualize reservoir boundary\n",
    "    patch = PathPatch(path,facecolor = 'none',edgecolor='r')\n",
    "    ax.add_patch(patch)\n",
    "\n",
    "    #show wells\n",
    "    ax.plot(1531.419458,2480.929597,'ro',label = 'I1')\n",
    "    ax.plot(1702.392344,1448.838004,'ro',label = 'I2')\n",
    "    ax.plot(635.9383307,1781.909319,'ro',label = 'I3')\n",
    "\n",
    "    ax.plot(2616.05529,957.5985418,'ro',label = 'I4_SH')\n",
    "    ax.plot(3255.077087,2229.756209,'rx',label = 'I4_BHL')\n",
    "    I4sh = [2616.05529,3255.077087]\n",
    "    I4bh = [957.5985418,2229.756209]\n",
    "    ax.plot(I4sh,I4bh,'r-.')\n",
    "\n",
    "\n",
    "    ax.plot(-329.6119086,1975.176578,'ro',label = 'N1')\n",
    "    ax.plot(-329.6119086,1975.176578,'ro',label = 'NST_SH')\n",
    "    ax.plot(-263.7958533,2592.891319,'rx',label = 'NST_BHL')\n",
    "    N1STsh = [-329.6119086,-263.7958533]\n",
    "    N1STbh = [1975.176578,2592.891319]\n",
    "    ax.plot(N1STsh,N1STbh,'r-.')\n",
    "\n",
    "    ax.legend = True\n",
    "\n",
    "\n",
    "    return ax"
   ]
  },
  {
   "cell_type": "code",
   "execution_count": 14,
   "metadata": {},
   "outputs": [
    {
     "name": "stdout",
     "output_type": "stream",
     "text": [
      "7540.0\n",
      "[-263.7958533 2592.891319 ]\n"
     ]
    },
    {
     "data": {
      "text/plain": [
       "<matplotlib.axes._subplots.AxesSubplot at 0x7f98db6741c0>"
      ]
     },
     "execution_count": 14,
     "metadata": {},
     "output_type": "execute_result"
    },
    {
     "data": {
      "image/png": "[encoded data removed]",
      "text/plain": [
       "<Figure size 432x288 with 2 Axes>"
      ]
     },
     "metadata": {
      "needs_background": "light"
     },
     "output_type": "display_data"
    }
   ],
   "source": [
    "Contour('PlatF3.csv')"
   ]
  },
  {
   "cell_type": "code",
   "execution_count": 15,
   "metadata": {},
   "outputs": [
    {
     "name": "stdout",
     "output_type": "stream",
     "text": [
      "7777.0\n",
      "[-263.7958533 2592.891319 ]\n"
     ]
    },
    {
     "data": {
      "text/plain": [
       "<matplotlib.axes._subplots.AxesSubplot at 0x7f98d4051d00>"
      ]
     },
     "execution_count": 15,
     "metadata": {},
     "output_type": "execute_result"
    },
    {
     "data": {
      "image/png": "[encoded data removed]",
      "text/plain": [
       "<Figure size 432x288 with 2 Axes>"
      ]
     },
     "metadata": {
      "needs_background": "light"
     },
     "output_type": "display_data"
    }
   ],
   "source": [
    "Contour('PlatF4.csv')"
   ]
  },
  {
   "cell_type": "code",
   "execution_count": 16,
   "metadata": {},
   "outputs": [
    {
     "name": "stdout",
     "output_type": "stream",
     "text": [
      "8033.0\n",
      "[-263.7958533 2592.891319 ]\n"
     ]
    },
    {
     "data": {
      "text/plain": [
       "<matplotlib.axes._subplots.AxesSubplot at 0x7f98cfda9670>"
      ]
     },
     "execution_count": 16,
     "metadata": {},
     "output_type": "execute_result"
    },
    {
     "data": {
      "image/png": "[encoded data removed]",
      "text/plain": [
       "<Figure size 432x288 with 2 Axes>"
      ]
     },
     "metadata": {
      "needs_background": "light"
     },
     "output_type": "display_data"
    }
   ],
   "source": [
    "Contour('PlatF5B.csv')"
   ]
  },
  {
   "cell_type": "code",
   "execution_count": 17,
   "metadata": {},
   "outputs": [
    {
     "name": "stdout",
     "output_type": "stream",
     "text": [
      "8178.0\n",
      "[-263.7958533 2592.891319 ]\n"
     ]
    },
    {
     "data": {
      "text/plain": [
       "<matplotlib.axes._subplots.AxesSubplot at 0x7f98cfcffac0>"
      ]
     },
     "execution_count": 17,
     "metadata": {},
     "output_type": "execute_result"
    },
    {
     "data": {
      "image/png": "[encoded data removed]",
      "text/plain": [
       "<Figure size 432x288 with 2 Axes>"
      ]
     },
     "metadata": {
      "needs_background": "light"
     },
     "output_type": "display_data"
    }
   ],
   "source": [
    "Contour('PlatF5D.csv')"
   ]
  },
  {
   "cell_type": "markdown",
   "metadata": {},
   "source": [
    "## THICKNESS"
   ]
  },
  {
   "cell_type": "code",
   "execution_count": 6,
   "metadata": {},
   "outputs": [
    {
     "ename": "FileNotFoundError",
     "evalue": "[Errno 2] File Thicc.csv does not exist: 'Thicc.csv'",
     "output_type": "error",
     "traceback": [
      "\u001b[0;31m---------------------------------------------------------------------------\u001b[0m",
      "\u001b[0;31mFileNotFoundError\u001b[0m                         Traceback (most recent call last)",
      "\u001b[0;32m<ipython-input-6-57bf1040bd83>\u001b[0m in \u001b[0;36m<module>\u001b[0;34m\u001b[0m\n\u001b[1;32m      3\u001b[0m \u001b[0;32mfrom\u001b[0m \u001b[0mscipy\u001b[0m\u001b[0;34m.\u001b[0m\u001b[0minterpolate\u001b[0m \u001b[0;32mimport\u001b[0m \u001b[0mgriddata\u001b[0m\u001b[0;34m\u001b[0m\u001b[0;34m\u001b[0m\u001b[0m\n\u001b[1;32m      4\u001b[0m \u001b[0;34m\u001b[0m\u001b[0m\n\u001b[0;32m----> 5\u001b[0;31m \u001b[0mplat\u001b[0m \u001b[0;34m=\u001b[0m \u001b[0mpd\u001b[0m\u001b[0;34m.\u001b[0m\u001b[0mread_csv\u001b[0m\u001b[0;34m(\u001b[0m\u001b[0;34m'Thicc.csv'\u001b[0m\u001b[0;34m)\u001b[0m\u001b[0;34m\u001b[0m\u001b[0;34m\u001b[0m\u001b[0m\n\u001b[0m\u001b[1;32m      6\u001b[0m \u001b[0mpoints\u001b[0m \u001b[0;34m=\u001b[0m \u001b[0mnp\u001b[0m\u001b[0;34m.\u001b[0m\u001b[0marray\u001b[0m\u001b[0;34m(\u001b[0m\u001b[0mplat\u001b[0m\u001b[0;34m.\u001b[0m\u001b[0miloc\u001b[0m\u001b[0;34m[\u001b[0m\u001b[0;36m0\u001b[0m\u001b[0;34m:\u001b[0m\u001b[0;36m23\u001b[0m\u001b[0;34m,\u001b[0m\u001b[0;34m[\u001b[0m\u001b[0;36m2\u001b[0m\u001b[0;34m,\u001b[0m\u001b[0;36m3\u001b[0m\u001b[0;34m]\u001b[0m\u001b[0;34m]\u001b[0m\u001b[0;34m.\u001b[0m\u001b[0mcopy\u001b[0m\u001b[0;34m(\u001b[0m\u001b[0;34m)\u001b[0m\u001b[0;34m)\u001b[0m \u001b[0;31m# x,y\u001b[0m\u001b[0;34m\u001b[0m\u001b[0;34m\u001b[0m\u001b[0m\n\u001b[1;32m      7\u001b[0m \u001b[0mvalues\u001b[0m \u001b[0;34m=\u001b[0m \u001b[0mnp\u001b[0m\u001b[0;34m.\u001b[0m\u001b[0marray\u001b[0m\u001b[0;34m(\u001b[0m\u001b[0mplat\u001b[0m\u001b[0;34m.\u001b[0m\u001b[0miloc\u001b[0m\u001b[0;34m[\u001b[0m\u001b[0;36m0\u001b[0m\u001b[0;34m:\u001b[0m\u001b[0;36m23\u001b[0m\u001b[0;34m,\u001b[0m\u001b[0;36m4\u001b[0m\u001b[0;34m]\u001b[0m\u001b[0;34m.\u001b[0m\u001b[0mcopy\u001b[0m\u001b[0;34m(\u001b[0m\u001b[0;34m)\u001b[0m\u001b[0;34m)\u001b[0m     \u001b[0;31m# z\u001b[0m\u001b[0;34m\u001b[0m\u001b[0;34m\u001b[0m\u001b[0m\n",
      "\u001b[0;32m~/opt/anaconda3/lib/python3.8/site-packages/pandas/io/parsers.py\u001b[0m in \u001b[0;36mparser_f\u001b[0;34m(filepath_or_buffer, sep, delimiter, header, names, index_col, usecols, squeeze, prefix, mangle_dupe_cols, dtype, engine, converters, true_values, false_values, skipinitialspace, skiprows, skipfooter, nrows, na_values, keep_default_na, na_filter, verbose, skip_blank_lines, parse_dates, infer_datetime_format, keep_date_col, date_parser, dayfirst, cache_dates, iterator, chunksize, compression, thousands, decimal, lineterminator, quotechar, quoting, doublequote, escapechar, comment, encoding, dialect, error_bad_lines, warn_bad_lines, delim_whitespace, low_memory, memory_map, float_precision)\u001b[0m\n\u001b[1;32m    674\u001b[0m         )\n\u001b[1;32m    675\u001b[0m \u001b[0;34m\u001b[0m\u001b[0m\n\u001b[0;32m--> 676\u001b[0;31m         \u001b[0;32mreturn\u001b[0m \u001b[0m_read\u001b[0m\u001b[0;34m(\u001b[0m\u001b[0mfilepath_or_buffer\u001b[0m\u001b[0;34m,\u001b[0m \u001b[0mkwds\u001b[0m\u001b[0;34m)\u001b[0m\u001b[0;34m\u001b[0m\u001b[0;34m\u001b[0m\u001b[0m\n\u001b[0m\u001b[1;32m    677\u001b[0m \u001b[0;34m\u001b[0m\u001b[0m\n\u001b[1;32m    678\u001b[0m     \u001b[0mparser_f\u001b[0m\u001b[0;34m.\u001b[0m\u001b[0m__name__\u001b[0m \u001b[0;34m=\u001b[0m \u001b[0mname\u001b[0m\u001b[0;34m\u001b[0m\u001b[0;34m\u001b[0m\u001b[0m\n",
      "\u001b[0;32m~/opt/anaconda3/lib/python3.8/site-packages/pandas/io/parsers.py\u001b[0m in \u001b[0;36m_read\u001b[0;34m(filepath_or_buffer, kwds)\u001b[0m\n\u001b[1;32m    446\u001b[0m \u001b[0;34m\u001b[0m\u001b[0m\n\u001b[1;32m    447\u001b[0m     \u001b[0;31m# Create the parser.\u001b[0m\u001b[0;34m\u001b[0m\u001b[0;34m\u001b[0m\u001b[0;34m\u001b[0m\u001b[0m\n\u001b[0;32m--> 448\u001b[0;31m     \u001b[0mparser\u001b[0m \u001b[0;34m=\u001b[0m \u001b[0mTextFileReader\u001b[0m\u001b[0;34m(\u001b[0m\u001b[0mfp_or_buf\u001b[0m\u001b[0;34m,\u001b[0m \u001b[0;34m**\u001b[0m\u001b[0mkwds\u001b[0m\u001b[0;34m)\u001b[0m\u001b[0;34m\u001b[0m\u001b[0;34m\u001b[0m\u001b[0m\n\u001b[0m\u001b[1;32m    449\u001b[0m \u001b[0;34m\u001b[0m\u001b[0m\n\u001b[1;32m    450\u001b[0m     \u001b[0;32mif\u001b[0m \u001b[0mchunksize\u001b[0m \u001b[0;32mor\u001b[0m \u001b[0miterator\u001b[0m\u001b[0;34m:\u001b[0m\u001b[0;34m\u001b[0m\u001b[0;34m\u001b[0m\u001b[0m\n",
      "\u001b[0;32m~/opt/anaconda3/lib/python3.8/site-packages/pandas/io/parsers.py\u001b[0m in \u001b[0;36m__init__\u001b[0;34m(self, f, engine, **kwds)\u001b[0m\n\u001b[1;32m    878\u001b[0m             \u001b[0mself\u001b[0m\u001b[0;34m.\u001b[0m\u001b[0moptions\u001b[0m\u001b[0;34m[\u001b[0m\u001b[0;34m\"has_index_names\"\u001b[0m\u001b[0;34m]\u001b[0m \u001b[0;34m=\u001b[0m \u001b[0mkwds\u001b[0m\u001b[0;34m[\u001b[0m\u001b[0;34m\"has_index_names\"\u001b[0m\u001b[0;34m]\u001b[0m\u001b[0;34m\u001b[0m\u001b[0;34m\u001b[0m\u001b[0m\n\u001b[1;32m    879\u001b[0m \u001b[0;34m\u001b[0m\u001b[0m\n\u001b[0;32m--> 880\u001b[0;31m         \u001b[0mself\u001b[0m\u001b[0;34m.\u001b[0m\u001b[0m_make_engine\u001b[0m\u001b[0;34m(\u001b[0m\u001b[0mself\u001b[0m\u001b[0;34m.\u001b[0m\u001b[0mengine\u001b[0m\u001b[0;34m)\u001b[0m\u001b[0;34m\u001b[0m\u001b[0;34m\u001b[0m\u001b[0m\n\u001b[0m\u001b[1;32m    881\u001b[0m \u001b[0;34m\u001b[0m\u001b[0m\n\u001b[1;32m    882\u001b[0m     \u001b[0;32mdef\u001b[0m \u001b[0mclose\u001b[0m\u001b[0;34m(\u001b[0m\u001b[0mself\u001b[0m\u001b[0;34m)\u001b[0m\u001b[0;34m:\u001b[0m\u001b[0;34m\u001b[0m\u001b[0;34m\u001b[0m\u001b[0m\n",
      "\u001b[0;32m~/opt/anaconda3/lib/python3.8/site-packages/pandas/io/parsers.py\u001b[0m in \u001b[0;36m_make_engine\u001b[0;34m(self, engine)\u001b[0m\n\u001b[1;32m   1112\u001b[0m     \u001b[0;32mdef\u001b[0m \u001b[0m_make_engine\u001b[0m\u001b[0;34m(\u001b[0m\u001b[0mself\u001b[0m\u001b[0;34m,\u001b[0m \u001b[0mengine\u001b[0m\u001b[0;34m=\u001b[0m\u001b[0;34m\"c\"\u001b[0m\u001b[0;34m)\u001b[0m\u001b[0;34m:\u001b[0m\u001b[0;34m\u001b[0m\u001b[0;34m\u001b[0m\u001b[0m\n\u001b[1;32m   1113\u001b[0m         \u001b[0;32mif\u001b[0m \u001b[0mengine\u001b[0m \u001b[0;34m==\u001b[0m \u001b[0;34m\"c\"\u001b[0m\u001b[0;34m:\u001b[0m\u001b[0;34m\u001b[0m\u001b[0;34m\u001b[0m\u001b[0m\n\u001b[0;32m-> 1114\u001b[0;31m             \u001b[0mself\u001b[0m\u001b[0;34m.\u001b[0m\u001b[0m_engine\u001b[0m \u001b[0;34m=\u001b[0m \u001b[0mCParserWrapper\u001b[0m\u001b[0;34m(\u001b[0m\u001b[0mself\u001b[0m\u001b[0;34m.\u001b[0m\u001b[0mf\u001b[0m\u001b[0;34m,\u001b[0m \u001b[0;34m**\u001b[0m\u001b[0mself\u001b[0m\u001b[0;34m.\u001b[0m\u001b[0moptions\u001b[0m\u001b[0;34m)\u001b[0m\u001b[0;34m\u001b[0m\u001b[0;34m\u001b[0m\u001b[0m\n\u001b[0m\u001b[1;32m   1115\u001b[0m         \u001b[0;32melse\u001b[0m\u001b[0;34m:\u001b[0m\u001b[0;34m\u001b[0m\u001b[0;34m\u001b[0m\u001b[0m\n\u001b[1;32m   1116\u001b[0m             \u001b[0;32mif\u001b[0m \u001b[0mengine\u001b[0m \u001b[0;34m==\u001b[0m \u001b[0;34m\"python\"\u001b[0m\u001b[0;34m:\u001b[0m\u001b[0;34m\u001b[0m\u001b[0;34m\u001b[0m\u001b[0m\n",
      "\u001b[0;32m~/opt/anaconda3/lib/python3.8/site-packages/pandas/io/parsers.py\u001b[0m in \u001b[0;36m__init__\u001b[0;34m(self, src, **kwds)\u001b[0m\n\u001b[1;32m   1889\u001b[0m         \u001b[0mkwds\u001b[0m\u001b[0;34m[\u001b[0m\u001b[0;34m\"usecols\"\u001b[0m\u001b[0;34m]\u001b[0m \u001b[0;34m=\u001b[0m \u001b[0mself\u001b[0m\u001b[0;34m.\u001b[0m\u001b[0musecols\u001b[0m\u001b[0;34m\u001b[0m\u001b[0;34m\u001b[0m\u001b[0m\n\u001b[1;32m   1890\u001b[0m \u001b[0;34m\u001b[0m\u001b[0m\n\u001b[0;32m-> 1891\u001b[0;31m         \u001b[0mself\u001b[0m\u001b[0;34m.\u001b[0m\u001b[0m_reader\u001b[0m \u001b[0;34m=\u001b[0m \u001b[0mparsers\u001b[0m\u001b[0;34m.\u001b[0m\u001b[0mTextReader\u001b[0m\u001b[0;34m(\u001b[0m\u001b[0msrc\u001b[0m\u001b[0;34m,\u001b[0m \u001b[0;34m**\u001b[0m\u001b[0mkwds\u001b[0m\u001b[0;34m)\u001b[0m\u001b[0;34m\u001b[0m\u001b[0;34m\u001b[0m\u001b[0m\n\u001b[0m\u001b[1;32m   1892\u001b[0m         \u001b[0mself\u001b[0m\u001b[0;34m.\u001b[0m\u001b[0munnamed_cols\u001b[0m \u001b[0;34m=\u001b[0m \u001b[0mself\u001b[0m\u001b[0;34m.\u001b[0m\u001b[0m_reader\u001b[0m\u001b[0;34m.\u001b[0m\u001b[0munnamed_cols\u001b[0m\u001b[0;34m\u001b[0m\u001b[0;34m\u001b[0m\u001b[0m\n\u001b[1;32m   1893\u001b[0m \u001b[0;34m\u001b[0m\u001b[0m\n",
      "\u001b[0;32mpandas/_libs/parsers.pyx\u001b[0m in \u001b[0;36mpandas._libs.parsers.TextReader.__cinit__\u001b[0;34m()\u001b[0m\n",
      "\u001b[0;32mpandas/_libs/parsers.pyx\u001b[0m in \u001b[0;36mpandas._libs.parsers.TextReader._setup_parser_source\u001b[0;34m()\u001b[0m\n",
      "\u001b[0;31mFileNotFoundError\u001b[0m: [Errno 2] File Thicc.csv does not exist: 'Thicc.csv'"
     ]
    }
   ],
   "source": [
    "from matplotlib.path import Path\n",
    "from matplotlib.patches import PathPatch\n",
    "from scipy.interpolate import griddata\n",
    "\n",
    "plat = pd.read_csv('Thicc.csv')\n",
    "points = np.array(plat.iloc[0:23,[2,3]].copy()) # x,y\n",
    "values = np.array(plat.iloc[0:23,4].copy())     # z\n",
    "boundary_points = np.array(plat.iloc[:,[0,1]].copy())\n",
    "\n",
    "print(values[-1])\n",
    "print(points[-1])\n",
    "#min and max of x and y points chosen for the boundary, @ z resolution\n",
    "Nx = 500\n",
    "Ny = 500\n",
    "xi = np.linspace(-3000, 5000,Nx)\n",
    "yi = np.linspace(0, 5000,Ny)\n",
    "X,Y = np.meshgrid(xi,yi)\n",
    "\n",
    "Z = griddata(points,values,(X,Y),method = 'cubic') \n",
    "boolean = ~np.isnan(Z) #does opposite of replacing nan with true(nan are false)\n",
    "#choose values based on true index(real values)\n",
    "#doing the same as spreadsheetbut with real values (make x_column beside y_column and corresponsding Z_column)\n",
    "Z1 = Z[boolean]\n",
    "Z1 = Z1.reshape(-1)\n",
    "X1 = X[boolean]\n",
    "X1 = X1.reshape(-1)\n",
    "Y1 = Y[boolean]\n",
    "Y1 = Y1.reshape(-1)\n",
    "\n",
    "points2 = np.column_stack((X1,Y1)) \n",
    "Z2 = griddata(points2,Z1,(X,Y),method = 'nearest') \n",
    "\n",
    "#remove negative depth values\n",
    "Z2 = np.where(Z2<0,0.0,Z2)\n",
    "\n",
    "#set boundary as a path object\n",
    "path = Path(boundary_points)\n",
    "\n",
    "#flatten our figure space(X,Y meshgrid), then arange in (N by 2 array for 'contains_points' function)\n",
    "XX,YY = X.flatten(), Y.flatten()\n",
    "XY = np.vstack((XX,YY)).T\n",
    "\n",
    "path_boolean = path.contains_points(XY)\n",
    "path_boolean = path_boolean.reshape(Ny,Nx)\n",
    "\n",
    "#make points 'outside' path nan \n",
    "outside = path_boolean == False\n",
    "Z2[outside] = np.nan\n",
    "\n",
    "fig,ax = plt.subplots(constrained_layout = True)\n",
    "C = ax.contourf(X,Y,Z2)\n",
    "cbar = fig.colorbar(C)\n",
    "\n",
    "#visualize reservoir boundary\n",
    "patch = PathPatch(path,facecolor = 'none',edgecolor='r')\n",
    "ax.add_patch(patch)\n",
    "\n",
    "#show wells\n",
    "ax.plot(1531.419458,2480.929597,'ro',label = 'I1')\n",
    "ax.plot(1702.392344,1448.838004,'ro',label = 'I2')\n",
    "ax.plot(635.9383307,1781.909319,'ro',label = 'I3')\n",
    "\n",
    "ax.plot(2616.05529,957.5985418,'ro',label = 'I4_SH')\n",
    "ax.plot(3255.077087,2229.756209,'rx',label = 'I4_BHL')\n",
    "I4sh = [2616.05529,3255.077087]\n",
    "I4bh = [957.5985418,2229.756209]\n",
    "ax.plot(I4sh,I4bh,'r-.')\n",
    "\n",
    "\n",
    "ax.plot(-329.6119086,1975.176578,'ro',label = 'N1')\n",
    "ax.plot(-329.6119086,1975.176578,'ro',label = 'NST_SH')\n",
    "ax.plot(-263.7958533,2592.891319,'rx',label = 'NST_BHL')\n",
    "N1STsh = [-329.6119086,-263.7958533]\n",
    "N1STbh = [1975.176578,2592.891319]\n",
    "ax.plot(N1STsh,N1STbh,'r-.')\n",
    "\n",
    "ax.legend = True\n",
    "\n",
    "\n",
    "print(boundary_points)"
   ]
  },
  {
   "cell_type": "code",
   "execution_count": null,
   "metadata": {},
   "outputs": [],
   "source": []
  }
 ],
 "metadata": {
  "kernelspec": {
   "display_name": "Python 3",
   "language": "python",
   "name": "python3"
  },
  "language_info": {
   "codemirror_mode": {
    "name": "ipython",
    "version": 3
   },
   "file_extension": ".py",
   "mimetype": "text/x-python",
   "name": "python",
   "nbconvert_exporter": "python",
   "pygments_lexer": "ipython3",
   "version": "3.8.1"
  }
 },
 "nbformat": 4,
 "nbformat_minor": 4
}
